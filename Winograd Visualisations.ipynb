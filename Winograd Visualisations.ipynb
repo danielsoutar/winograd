{
 "cells": [
  {
   "cell_type": "code",
   "execution_count": 1,
   "metadata": {},
   "outputs": [],
   "source": [
    "import matplotlib.pyplot as plt\n",
    "import numpy as np\n",
    "# This import registers the 3D projection, but is otherwise unused.\n",
    "from mpl_toolkits.mplot3d import Axes3D  # noqa: F401 unused import\n",
    "import PyQt5\n",
    "import naive_conv as conv\n",
    "import seaborn as sb"
   ]
  },
  {
   "cell_type": "code",
   "execution_count": 2,
   "metadata": {},
   "outputs": [],
   "source": [
    "# prepare some coordinates\n",
    "x, y, z = np.indices((12, 12, 12))\n",
    "\n",
    "# draw cuboids in the top left and bottom right corners, and a link between them\n",
    "input_tensor = (x >= 4) & (x < 9) & (y >= 4) & (y < 7) & (z >= 4) & (z < 8)\n",
    "filter_tensor = (x >= 5) & (x < 8) & (y >= 4) & (y < 7) & (z >= 5) & (z < 8)\n",
    "# filter_tensor = (x >= 4) & (y >= 9) & (z >= 9)\n",
    "\n",
    "# combine the objects into a single boolean array\n",
    "voxels = input_tensor | filter_tensor\n",
    "\n",
    "colors = np.empty(voxels.shape + (4,), dtype=np.float32)\n"
   ]
  },
  {
   "cell_type": "code",
   "execution_count": 3,
   "metadata": {
    "scrolled": true
   },
   "outputs": [],
   "source": [
    "# set the colors of each object\n",
    "colors = np.empty(voxels.shape + (4,), dtype=np.float32)\n",
    "# colors[link] = (0.9, 0.0, 0.0)\n",
    "# # colors[cube1, :] = 'blue'\n",
    "# # colors[cube2, :] = 'green'\n",
    "# colors[link]\n",
    "colors[input_tensor, :] = ((0., 1., 0., 0.2))\n",
    "colors[filter_tensor, :] = ((1., 1., 0.5, 0.5))\n",
    "\n",
    "# colors = np.empty(voxels.shape, dtype=object)\n",
    "# colors[cube1] = 'blue'\n",
    "# colors[cube2] = 'green'\n",
    "\n",
    "# voxels.shape == colors.shape"
   ]
  },
  {
   "cell_type": "code",
   "execution_count": 4,
   "metadata": {
    "scrolled": false
   },
   "outputs": [
    {
     "data": {
      "image/png": "[encoded data removed]",
      "text/plain": [
       "<Figure size 1200x1000 with 1 Axes>"
      ]
     },
     "metadata": {
      "needs_background": "light"
     },
     "output_type": "display_data"
    }
   ],
   "source": [
    "# and plot everything\n",
    "fig = plt.figure(figsize=(12, 10), dpi=100)\n",
    "ax = fig.gca(projection='3d')\n",
    "ax.voxels(voxels, facecolors=colors)  # , edgecolor='k')\n",
    "plt.axis('off')\n",
    "\n",
    "plt.show()"
   ]
  },
  {
   "cell_type": "code",
   "execution_count": 38,
   "metadata": {},
   "outputs": [],
   "source": [
    "class Cube:\n",
    "    \"\"\"\n",
    "    Wrapper around Poly3DCollection used for plotting in Matplotlib,\n",
    "    as well as containing the actual points.\n",
    "    \"\"\"\n",
    "    \n",
    "    def __init__(self, points):\n",
    "        self._faces = [\n",
    "            (points[0], points[1], points[2], points[3]),  # bottom\n",
    "            (points[0], points[4], points[7], points[3]),  # front face\n",
    "            (points[0], points[1], points[5], points[4]),  # left face\n",
    "            (points[3], points[7], points[6], points[2]),  # right face\n",
    "            (points[1], points[5], points[6], points[2]),  # back face\n",
    "            (points[4], points[5], points[6], points[7]),  # top\n",
    "        ]\n",
    "\n",
    "        self._points = np.array([p for p in points]).reshape((len(points), 3))\n",
    "        self._polycollection = Poly3DCollection(self._faces)\n",
    "\n",
    "    def get_polycollection(self):\n",
    "        return self._polycollection\n",
    "\n",
    "    def get_points(self):\n",
    "        return self._points\n",
    "\n",
    "    def get_faces(self):\n",
    "        return self._faces\n",
    "\n",
    "\n",
    "def construct_cube(base, length_vec, width_vec, height_vec):\n",
    "    \"\"\"\n",
    "    Represent cube with 8 points, transform points into faces,\n",
    "    and return a collection of these faces representing the cube.\n",
    "    \"\"\"\n",
    "    point0 = base\n",
    "    point1 = base + length_vec\n",
    "    point2 = base + length_vec + width_vec\n",
    "    point3 = base + width_vec\n",
    "    point4 = base + height_vec\n",
    "    point5 = base + length_vec + height_vec\n",
    "    point6 = base + length_vec + width_vec + height_vec\n",
    "    point7 = base + width_vec + height_vec\n",
    "\n",
    "    return Cube([point0, point1, point2, point3,\n",
    "                 point4, point5, point6, point7])\n",
    "\n",
    "\n",
    "def format_cube(cube, facecolours=None, linewidths=None, edgecolours=None, alpha=None):\n",
    "    \"\"\"\n",
    "    Make the cube pretty and the tings.\n",
    "    \"\"\"\n",
    "    polycollection = cube.get_polycollection()\n",
    "\n",
    "    polycollection.set_facecolor(facecolours)\n",
    "    polycollection.set_linewidths(linewidths)\n",
    "    polycollection.set_edgecolor(edgecolours)\n",
    "    polycollection.set_alpha(alpha)\n",
    "    \n",
    "    return cube"
   ]
  },
  {
   "cell_type": "code",
   "execution_count": 41,
   "metadata": {},
   "outputs": [],
   "source": [
    "class Space:\n",
    "    \"\"\"\n",
    "    Representation of a 3D cartesian coordinate space.\n",
    "    This space contains geometric objects for plotting.\n",
    "    \"\"\"\n",
    "    \n",
    "    def __init__(self, ax, dims):\n",
    "        self._ax = ax\n",
    "        self._dims = dims\n",
    "    \n",
    "    def add_cube(self, cube):\n",
    "        \"\"\"\n",
    "        Take in an axes-object as a 3D space, and add the cube to it. Make sure the space is\n",
    "        large enough to encompass all objects in it. This is achieved by ensuring the space\n",
    "        is centred around the geometric mean of the objects within it. Return the space.\n",
    "        \"\"\"\n",
    "        bounding_box = get_bounding_box(cube.get_points())\n",
    "\n",
    "        if self._dims == [None, None, None]:\n",
    "            dim = [bounding_box[0], bounding_box[1], bounding_box[2]]\n",
    "        else:\n",
    "            dim = [[min(self._dims[i][0], bounding_box[i][0]), \n",
    "                    max(self._dims[i][1], bounding_box[i][1])] for i in range(len(bounding_box))]\n",
    "\n",
    "        self._dims = dim\n",
    "\n",
    "        self._ax.add_collection3d(cube.get_polycollection())\n",
    "        \n",
    "    def get_ax(self):\n",
    "        return self._ax\n",
    "    \n",
    "    def get_dims(self):\n",
    "        return self._dims"
   ]
  },
  {
   "cell_type": "code",
   "execution_count": 43,
   "metadata": {
    "scrolled": false
   },
   "outputs": [
    {
     "name": "stdout",
     "output_type": "stream",
     "text": [
      "Using matplotlib backend: MacOSX\n"
     ]
    }
   ],
   "source": [
    "from mpl_toolkits.mplot3d.art3d import Poly3DCollection, Line3DCollection\n",
    "\n",
    "%matplotlib\n",
    "\n",
    "\n",
    "def get_bounding_box(points): \n",
    "    \"\"\"\n",
    "    Read in a numpy array of shape M x 3, where M denotes\n",
    "    the number of points. First column is xs, second ys, third zs.\n",
    "    \"\"\"\n",
    "    x_min = np.min(points[:,0])\n",
    "    x_max = np.max(points[:,0])\n",
    "    y_min = np.min(points[:,1])\n",
    "    y_max = np.max(points[:,1])\n",
    "    z_min = np.min(points[:,2])\n",
    "    z_max = np.max(points[:,2])\n",
    "\n",
    "    max_range = np.array(\n",
    "        [x_max-x_min, y_max-y_min, z_max-z_min]).max() / 2.0\n",
    "\n",
    "    mid_x = (x_max+x_min) * 0.5\n",
    "    mid_y = (y_max+y_min) * 0.5\n",
    "    mid_z = (z_max+z_min) * 0.5\n",
    "\n",
    "    return [\n",
    "        [mid_x - max_range, mid_x + max_range],\n",
    "        [mid_y - max_range, mid_y + max_range],\n",
    "        [mid_z - max_range, mid_z + max_range]\n",
    "    ]\n",
    "\n",
    "# Get the axes object and abstract it as a 3D space.\n",
    "fig = plt.figure(figsize=(12, 10))\n",
    "ax = fig.add_subplot(111, projection='3d')\n",
    "ax = fig.gca(projection='3d')\n",
    "ax.set_xlabel('x')\n",
    "ax.set_xlabel('y')\n",
    "ax.set_xlabel('z')\n",
    "\n",
    "# space = {\"ax\": ax, \"dims\": [None, None, None], \"num_objs\": 0}\n",
    "space = Space(ax, [None, None, None])\n",
    "\n",
    "# colors[input_tensor, :] = ((0., 1., 0., 0.2))\n",
    "# colors[filter_tensor, :] = ((1., 1., 0.5, 0.5))\n",
    "\n",
    "def make_filter(space, base, shape=(3, 3, 3), colour=(1., 1., 0.5), alpha=0.3, linewidths=1):\n",
    "    # Filter tensor (cream)\n",
    "    l_vec, w_vec, h_vec = np.array((shape[0], 0, 0)), np.array((0, shape[1], 0)), np.array((0, 0, shape[2]))\n",
    "    cross_hair_block = format_cube(construct_cube(base, l_vec, w_vec, h_vec), facecolours=colour, linewidths=linewidths, edgecolours='black', alpha=alpha)\n",
    "    space.add_cube(cross_hair_block)\n",
    "#     return space\n",
    "\n",
    "\n",
    "def make_input(space, base):\n",
    "    # Input tensor (green)\n",
    "    l_vec, w_vec, h_vec = np.array((4, 0, 0)), np.array((0, 3, 0)), np.array((0, 0, 4))\n",
    "    peripheral_block_left = format_cube(construct_cube(base, l_vec, w_vec, h_vec), facecolours=(0, 0.5, 0.), linewidths=0.1, edgecolours='black', alpha=0.0)\n",
    "    space.add_cube(peripheral_block_left)\n",
    "#     return space\n",
    "\n",
    "\n",
    "def make_sub_square(space, base, dimensions, colour=None, alpha=0):\n",
    "    # Make squares such that there are 1x1x1 squares originating at base and as many can fit into dimensions.\n",
    "    l_vec, w_vec, h_vec = np.array((1, 0, 0)), np.array((0, 1, 0)), np.array((0, 0, 1))\n",
    "    for i in range(dimensions[0]):\n",
    "        for j in range(dimensions[1]):\n",
    "            for k in range(dimensions[2]):\n",
    "                offset = np.array((i, j, k))\n",
    "                if (i+j+k) % 2 >= 0:\n",
    "                    block = format_cube(construct_cube(base + offset, l_vec, w_vec, h_vec), facecolours=colour, linewidths=0.1, edgecolours='black', alpha=alpha)\n",
    "                else:\n",
    "                    block = format_cube(construct_cube(base + offset, l_vec, w_vec, h_vec), facecolours=colour, linewidths=0, edgecolours='black', alpha=alpha + 0.1)\n",
    "                space.add_cube(block)\n",
    "#     return space\n",
    "\n",
    "def make_input_filter_slices(space, input_base, filter_base):\n",
    "    \"\"\"\n",
    "    Adds a slice of an input tensor and a filter tensor to the space provided.\n",
    "    \n",
    "    This assumes (currently) a 3x3 filter and a similarly-sized slice of the input.\n",
    "    \"\"\"\n",
    "    make_sub_square(space, filter_base, [1, 9, 1], colour=(1., 1., 0.5), alpha=0.3)\n",
    "    make_sub_square(space, input_base, [1, 9, 1])\n",
    "    make_filter(space, filter_base, shape=(1, 9, 1), colour=(0, 0, 0), alpha=0)\n",
    "#     return space\n",
    "    \n",
    "\n",
    "make_filter(space, np.array((0, 0, 1)))\n",
    "# space = make_input(space, np.array((0, 0, 0)))\n",
    "make_sub_square(space, np.array((0, 0, 0)), [4, 3, 4])\n",
    "\n",
    "\n",
    "for a, b in zip([9, 15, 21, 27], [6, 12, 18, 24]):\n",
    "    make_input_filter_slices(space, np.array((a, -3, 1.5)), np.array((b, -3, 1.5)))\n",
    "\n",
    "# space = make_sub_square(space, np.array((6, -3, 1.5)), [1, 9, 1], colour=(1., 1., 0.5), alpha=0.3)\n",
    "# space = make_sub_square(space, np.array((9, -3, 1.5)), [1, 9, 1])\n",
    "# space = make_filter(space, np.array((6, -3, 1.5)), shape=(1, 9, 1), colour=(0, 0, 0), alpha=0)\n",
    "\n",
    "ax = space.get_ax()\n",
    "bounds = space.get_dims()\n",
    "\n",
    "bound_max = max(bounds)\n",
    "\n",
    "ax.set_xlim(bound_max)\n",
    "ax.set_ylim(bound_max)\n",
    "ax.set_zlim(bound_max)\n",
    "# ax.set_xlim(space[\"dims\"][0])\n",
    "# ax.set_ylim(space[\"dims\"][1])\n",
    "# ax.set_zlim(space[\"dims\"][2])\n",
    "\n",
    "# plt.axis('off')\n",
    "plt.show()\n"
   ]
  },
  {
   "cell_type": "code",
   "execution_count": 6,
   "metadata": {},
   "outputs": [],
   "source": [
    "# library\n",
    "from mpl_toolkits.mplot3d import Axes3D\n",
    "import matplotlib.pyplot as plt\n",
    "import pandas as pd\n",
    "import seaborn as sb\n",
    " \n",
    "# Get the data (csv file is hosted on the web)\n",
    "url = 'https://python-graph-gallery.com/wp-content/uploads/volcano.csv'\n",
    "data = pd.read_csv(url)\n",
    "\n",
    "# Transform it to a long format\n",
    "df=data.unstack().reset_index()\n",
    "df.columns=[\"X\",\"Y\",\"Z\"]\n",
    " \n",
    "# And transform the old column name in something numeric\n",
    "df['X']=pd.Categorical(df['X'])\n",
    "df['X']=df['X'].cat.codes\n",
    " \n",
    "# Make the plot\n",
    "fig = plt.figure()\n",
    "ax = fig.gca(projection='3d')\n",
    "\n",
    "ax.plot_trisurf(df['Y'], df['X'], df['Z'], cmap=plt.cm.viridis, linewidth=0.2)\n",
    "plt.show()"
   ]
  },
  {
   "cell_type": "code",
   "execution_count": 7,
   "metadata": {},
   "outputs": [
    {
     "data": {
      "text/plain": [
       "<matplotlib.colorbar.Colorbar at 0x1a1c159400>"
      ]
     },
     "execution_count": 7,
     "metadata": {},
     "output_type": "execute_result"
    }
   ],
   "source": [
    "# to Add a color bar which maps values to colors.\n",
    "fig = plt.figure()\n",
    "ax = fig.gca(projection='3d')\n",
    "surf=ax.plot_trisurf(df['Y'], df['X'], df['Z'], cmap=plt.cm.viridis, linewidth=0.2)\n",
    "fig.colorbar( surf, shrink=0.5, aspect=5)"
   ]
  },
  {
   "cell_type": "code",
   "execution_count": 8,
   "metadata": {},
   "outputs": [],
   "source": [
    "# Other palette\n",
    "fig = plt.figure(figsize=(12, 10))\n",
    "ax = fig.gca(projection='3d')\n",
    "ax.plot_trisurf(df['Y'], df['X'], df['Z'], cmap=plt.cm.jet, linewidth=0.02)\n",
    "plt.show()"
   ]
  },
  {
   "cell_type": "code",
   "execution_count": 9,
   "metadata": {},
   "outputs": [
    {
     "name": "stdout",
     "output_type": "stream",
     "text": [
      "Warning: Cannot change to a different GUI toolkit: qt. Using osx instead.\n"
     ]
    }
   ],
   "source": [
    "dist = np.random.randn(50, 50) / 2\n",
    "xs = np.linspace(0, 50, 50)\n",
    "ys = np.linspace(0, 50, 50)\n",
    "X, Y = np.meshgrid(xs,ys)\n",
    "\n",
    "%matplotlib qt"
   ]
  },
  {
   "cell_type": "code",
   "execution_count": 10,
   "metadata": {},
   "outputs": [
    {
     "data": {
      "text/plain": [
       "(50, 50)"
      ]
     },
     "execution_count": 10,
     "metadata": {},
     "output_type": "execute_result"
    }
   ],
   "source": [
    "X.shape"
   ]
  },
  {
   "cell_type": "code",
   "execution_count": 11,
   "metadata": {},
   "outputs": [
    {
     "data": {
      "text/plain": [
       "(50, 50)"
      ]
     },
     "execution_count": 11,
     "metadata": {},
     "output_type": "execute_result"
    }
   ],
   "source": [
    "Y.shape"
   ]
  },
  {
   "cell_type": "code",
   "execution_count": 12,
   "metadata": {},
   "outputs": [],
   "source": [
    "fig = plt.figure(figsize=(12, 10))\n",
    "ax = fig.gca(projection='3d')\n",
    "ax.plot_trisurf(X.flatten(), Y.flatten(), dist.flatten(), cmap=plt.cm.jet, linewidth=0.02)\n",
    "plt.show()"
   ]
  },
  {
   "cell_type": "code",
   "execution_count": 13,
   "metadata": {},
   "outputs": [],
   "source": [
    "def apply_filter(input_tensor, filter_tensor):\n",
    "    input_tensor = input_tensor.reshape((1, 1, input_tensor.shape[0], input_tensor.shape[1]))\n",
    "    res = conv.conv2d_multi_channel(input_tensor, filter_tensor, padding=1)\n",
    "    res = res.reshape((input_tensor.shape[2], input_tensor.shape[3]))\n",
    "    return res\n",
    "    \n",
    "input_tensor = dist\n",
    "filter_tensor = np.array([1, 2, 1,\n",
    "                          2, 4, 2,\n",
    "                          1, 2, 1]).reshape((1, 1, 3, 3))\n",
    "\n",
    "filter_tensor = filter_tensor / 16\n",
    "\n",
    "res = apply_filter(input_tensor, filter_tensor)"
   ]
  },
  {
   "cell_type": "code",
   "execution_count": 14,
   "metadata": {},
   "outputs": [],
   "source": [
    "fig = plt.figure(figsize=(12, 10))\n",
    "ax = fig.gca(projection='3d')\n",
    "ax.plot_trisurf(X.flatten(), Y.flatten(), res.flatten(), cmap=plt.cm.jet, linewidth=0.02)\n",
    "plt.show()"
   ]
  },
  {
   "cell_type": "code",
   "execution_count": 15,
   "metadata": {},
   "outputs": [],
   "source": [
    "for i in range(10):\n",
    "    res = apply_filter(res, filter_tensor)"
   ]
  },
  {
   "cell_type": "code",
   "execution_count": 16,
   "metadata": {},
   "outputs": [],
   "source": [
    "fig = plt.figure(figsize=(12, 10))\n",
    "ax = fig.gca(projection='3d')\n",
    "ax.plot_trisurf(X.flatten(), Y.flatten(), res.flatten(), cmap=plt.cm.jet, linewidth=0.02)\n",
    "ax.axis('off')\n",
    "# ax.plot_trisurf(X.flatten()[0:5], Y.flatten()[0:5], (res.flatten()[0:5]) + 2, cmap=plt.cm.jet, linewidth=0.02)\n",
    "plt.show()"
   ]
  },
  {
   "cell_type": "code",
   "execution_count": 17,
   "metadata": {},
   "outputs": [
    {
     "data": {
      "text/plain": [
       "(50, 50)"
      ]
     },
     "execution_count": 17,
     "metadata": {},
     "output_type": "execute_result"
    }
   ],
   "source": [
    "X.shape"
   ]
  },
  {
   "cell_type": "code",
   "execution_count": 18,
   "metadata": {},
   "outputs": [],
   "source": [
    "choose_region = lambda plane, from_x, until_x, from_y, until_y: plane[from_x:until_x, from_y:until_y]"
   ]
  },
  {
   "cell_type": "code",
   "execution_count": 19,
   "metadata": {},
   "outputs": [],
   "source": [
    "fr, un = 4, 8\n",
    "\n",
    "selected_res = choose_region(res, fr, un, fr, un)\n",
    "selected_X = choose_region(X, fr, un, fr, un)\n",
    "selected_Y = choose_region(Y, fr, un, fr, un)"
   ]
  },
  {
   "cell_type": "code",
   "execution_count": 20,
   "metadata": {},
   "outputs": [
    {
     "data": {
      "text/plain": [
       "(4, 4)"
      ]
     },
     "execution_count": 20,
     "metadata": {},
     "output_type": "execute_result"
    }
   ],
   "source": [
    "selected_X.shape"
   ]
  },
  {
   "cell_type": "code",
   "execution_count": 21,
   "metadata": {},
   "outputs": [],
   "source": [
    "fig = plt.figure(figsize=(12, 10))\n",
    "ax = fig.gca(projection='3d')\n",
    "ax.plot_trisurf(selected_X.flatten(), selected_Y.flatten(), selected_res.flatten(), cmap=plt.cm.jet, linewidth=0.02)\n",
    "ax.axis('off')\n",
    "plt.show()"
   ]
  },
  {
   "cell_type": "code",
   "execution_count": 22,
   "metadata": {},
   "outputs": [],
   "source": [
    "fig = plt.figure(figsize=(12, 3))\n",
    "ax = fig.gca(projection='3d')\n",
    "\n",
    "padded_X = np.pad(X, (1, 1), mode='constant')\n",
    "padded_Y = np.pad(Y, (1, 1), mode='constant')\n",
    "\n",
    "for i in range(0, 50, 2):\n",
    "    for j in range(0, 50, 2):\n",
    "        fr_i, un_i = i, i+3\n",
    "        fr_j, un_j = j, j+3\n",
    "        selected_X = choose_region(padded_X, fr_i, un_i, fr_j, un_j)\n",
    "        selected_Y = choose_region(padded_Y, fr_i, un_i, fr_j, un_j)\n",
    "#         ax.plot_trisurf(selected_X.flatten(), selected_Y.flatten(), filter_tensor.flatten() / 16, cmap=plt.cm.jet, alpha=0.2, linewidth=0.02)\n",
    "        \n",
    "\n",
    "ax.plot_trisurf(selected_X.flatten(), selected_Y.flatten(), filter_tensor.flatten(), cmap=plt.cm.jet, linewidth=0.02)\n",
    "# ax.axis('off')\n",
    "plt.show()"
   ]
  },
  {
   "cell_type": "code",
   "execution_count": 23,
   "metadata": {},
   "outputs": [],
   "source": [
    "G = np.array([  1,   0,   0,\n",
    "              0.5, 0.5, 0.5,\n",
    "              0.5, -.5, 0.5,\n",
    "                0,   0,   1]).reshape((4, 3))\n",
    "GgGt = np.dot(np.dot(G, filter_tensor.reshape((3, 3))), G.transpose())"
   ]
  },
  {
   "cell_type": "code",
   "execution_count": 24,
   "metadata": {},
   "outputs": [
    {
     "data": {
      "text/plain": [
       "array([[0.0625, 0.125 , 0.    , 0.0625],\n",
       "       [0.125 , 0.25  , 0.    , 0.125 ],\n",
       "       [0.    , 0.    , 0.    , 0.    ],\n",
       "       [0.0625, 0.125 , 0.    , 0.0625]])"
      ]
     },
     "execution_count": 24,
     "metadata": {},
     "output_type": "execute_result"
    }
   ],
   "source": [
    "GgGt"
   ]
  },
  {
   "cell_type": "code",
   "execution_count": 25,
   "metadata": {},
   "outputs": [],
   "source": [
    "fig = plt.figure(figsize=(12, 10))\n",
    "ax = fig.gca(projection='3d')\n",
    "ax.plot_trisurf(selected_X.flatten(), selected_Y.flatten(), GgGt.flatten(), cmap=plt.cm.viridis, linewidth=0.02)\n",
    "# ax.axis('off')\n",
    "plt.show()"
   ]
  },
  {
   "cell_type": "code",
   "execution_count": 26,
   "metadata": {},
   "outputs": [],
   "source": [
    "Bt = np.array([ 1,  0, -1,  0,\n",
    "                0,  1,  1,  0,\n",
    "                0, -1,  1,  0,\n",
    "                0,  1,  0, -1]).reshape((4, 4))\n",
    "BtdB = np.dot(np.dot(Bt, selected_res.reshape((4, 4))), Bt.transpose())"
   ]
  },
  {
   "cell_type": "code",
   "execution_count": 27,
   "metadata": {},
   "outputs": [],
   "source": [
    "fr, un = 4, 8\n",
    "\n",
    "selected_res = choose_region(res, fr, un, fr, un)\n",
    "selected_X = choose_region(X, fr, un, fr, un)\n",
    "selected_Y = choose_region(Y, fr, un, fr, un)\n",
    "\n",
    "fig = plt.figure(figsize=(14.4, 12))\n",
    "ax = fig.gca(projection='3d')\n",
    "ax.plot_trisurf(selected_X.flatten(), selected_Y.flatten(), BtdB.flatten(), cmap=plt.cm.coolwarm, linewidth=0.02)\n",
    "ax.plot_trisurf(selected_X.flatten(), selected_Y.flatten(), GgGt.flatten() + 2, cmap=plt.cm.viridis, linewidth=0.02)\n",
    "# ax.axis('off')\n",
    "for i in range(fr, un):\n",
    "    for j in range(fr, un):\n",
    "#         ax.quiver(i + 0.1,j + 0.1,-1,0,0,6, arrow_length_ratio=0.01, linestyles='dashed', alpha=0.3)\n",
    "        ax.plot([i + 0.1, i + 0.1], [j + 0.1, j + 0.1], [-1, 3], '--', color='blue', alpha=0.3)\n",
    "        \n",
    "UV = GgGt * BtdB\n",
    "ax.plot_trisurf(selected_X.flatten() + 4, selected_Y.flatten() + 4, UV.flatten() + 1, cmap=plt.cm.coolwarm, linewidth=0.02)\n",
    "\n",
    "# ax.plot([11], [11], [0])\n",
    "plt.show()"
   ]
  },
  {
   "cell_type": "code",
   "execution_count": 28,
   "metadata": {},
   "outputs": [],
   "source": [
    "UV = GgGt * BtdB"
   ]
  },
  {
   "cell_type": "code",
   "execution_count": 29,
   "metadata": {},
   "outputs": [
    {
     "data": {
      "text/plain": [
       "array([[ 0.00080269, -0.00065305, -0.        ,  0.00062334],\n",
       "       [ 0.00880062, -0.02640621, -0.        ,  0.00762243],\n",
       "       [-0.        ,  0.        ,  0.        , -0.        ],\n",
       "       [ 0.00126032, -0.00468736, -0.        ,  0.00094256]])"
      ]
     },
     "execution_count": 29,
     "metadata": {},
     "output_type": "execute_result"
    }
   ],
   "source": [
    "UV"
   ]
  },
  {
   "cell_type": "code",
   "execution_count": 30,
   "metadata": {},
   "outputs": [],
   "source": [
    "fig = plt.figure(figsize=(12, 10))\n",
    "ax = fig.gca(projection='3d')\n",
    "ax.plot_trisurf(selected_X.flatten(), selected_Y.flatten(), UV.flatten(), cmap=plt.cm.coolwarm, linewidth=0.02)\n",
    "# ax.axis('off')\n",
    "plt.show()"
   ]
  },
  {
   "cell_type": "code",
   "execution_count": 31,
   "metadata": {},
   "outputs": [],
   "source": [
    "At = np.array([ 1,  1,  1,  0,\n",
    "                0,  1, -1, -1]).reshape((2, 4))\n",
    "FINAL = np.dot(np.dot(At, UV), At.transpose())"
   ]
  },
  {
   "cell_type": "code",
   "execution_count": 32,
   "metadata": {},
   "outputs": [
    {
     "data": {
      "text/plain": [
       "array([[4.08163265, 5.10204082, 6.12244898, 7.14285714],\n",
       "       [4.08163265, 5.10204082, 6.12244898, 7.14285714],\n",
       "       [4.08163265, 5.10204082, 6.12244898, 7.14285714],\n",
       "       [4.08163265, 5.10204082, 6.12244898, 7.14285714]])"
      ]
     },
     "execution_count": 32,
     "metadata": {},
     "output_type": "execute_result"
    }
   ],
   "source": [
    "selected_X"
   ]
  },
  {
   "cell_type": "code",
   "execution_count": 33,
   "metadata": {},
   "outputs": [],
   "source": [
    "# Need to shrink fr and un because (m, n) is (2, 2) for a 3 x 3 filter.\n",
    "fr, un = 5, 7\n",
    "\n",
    "selected_res = choose_region(res, fr, un, fr, un)\n",
    "selected_X = choose_region(X, fr, un, fr, un)\n",
    "selected_Y = choose_region(Y, fr, un, fr, un)\n",
    "\n",
    "fig = plt.figure(figsize=(12, 10))\n",
    "ax = fig.gca(projection='3d')\n",
    "ax.plot_trisurf(selected_X.flatten(), selected_Y.flatten(), FINAL.flatten(), cmap=plt.cm.coolwarm, linewidth=0.02)\n",
    "# ax.axis('off')\n",
    "plt.show()"
   ]
  },
  {
   "cell_type": "code",
   "execution_count": null,
   "metadata": {},
   "outputs": [],
   "source": []
  }
 ],
 "metadata": {
  "kernelspec": {
   "display_name": "Python 3",
   "language": "python",
   "name": "python3"
  },
  "language_info": {
   "codemirror_mode": {
    "name": "ipython",
    "version": 3
   },
   "file_extension": ".py",
   "mimetype": "text/x-python",
   "name": "python",
   "nbconvert_exporter": "python",
   "pygments_lexer": "ipython3",
   "version": "3.6.8"
  }
 },
 "nbformat": 4,
 "nbformat_minor": 2
}
